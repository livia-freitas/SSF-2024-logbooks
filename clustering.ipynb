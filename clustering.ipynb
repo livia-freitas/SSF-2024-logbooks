{
 "cells": [
  {
   "cell_type": "code",
   "execution_count": 1,
   "id": "23d2d10a-c2bb-4241-85ea-97780bd9b78b",
   "metadata": {},
   "outputs": [],
   "source": [
    "from gensim.models.fasttext import load_facebook_vectors\n",
    "from gensim.test.utils import datapath\n",
    "import numpy as np\n",
    "import matplotlib.pyplot as plt\n",
    "import sklearn.cluster\n",
    "import scipy.stats\n",
    "import scipy.spatial.distance\n",
    "import pandas as pd"
   ]
  },
  {
   "cell_type": "markdown",
   "id": "58329e3f-4436-46eb-b937-484b15c2ba39",
   "metadata": {},
   "source": [
    "# Load word embeddings (FastText model)"
   ]
  },
  {
   "cell_type": "code",
   "execution_count": 2,
   "id": "05a55114-014f-485f-99d9-38551e17805c",
   "metadata": {},
   "outputs": [],
   "source": [
    "## specify path for embeddings file\n",
    "\n",
    "# # these embeddings come with the gensim package\n",
    "# cap_path = datapath(\"crime-and-punishment.bin\")\n",
    "cap_path = datapath(\"lee_fasttext.bin\")\n",
    "\n",
    "# # The following embeddings were downloaded from:\n",
    "# # https://fasttext.cc/docs/en/pretrained-vectors.html\n",
    "# # and saved to \"data\" directory.\n",
    "# cap_path = \"data/wiki/wiki.en.bin\" \n",
    "\n",
    "## load the embeddings\n",
    "fbkv = load_facebook_vectors(cap_path)\n",
    "wind_terms = []\n",
    "n_rows = 13\n",
    "for i in np.arange(0,n_rows):\n",
    "    rows_before = max(i, 0)\n",
    "    rows_after = n_rows-(i+1)\n",
    "    wind_terms.append(\n",
    "        pd.read_csv(\"wind_terms_no_commas.txt\", sep=\", \",skiprows=rows_before, skipfooter = rows_after, header=None, engine=\"python\")\n",
    "    )"
   ]
  },
  {
   "cell_type": "markdown",
   "id": "4792ccdf-f0b8-4dbf-9aa1-70cbe19f182b",
   "metadata": {},
   "source": [
    "#### Look at a few embedding examples"
   ]
  },
  {
   "cell_type": "code",
   "execution_count": 7,
   "id": "a213f31f-55d9-47a5-9ef2-de88f646d41f",
   "metadata": {},
   "outputs": [
    {
     "name": "stdout",
     "output_type": "stream",
     "text": [
      "correlation coefficients\n",
      "0.8776445185363406\n",
      "0.9384719648907758\n",
      "\n",
      "cosine distances\n",
      "0.11786442995071411\n",
      "0.06028550863265991\n"
     ]
    }
   ],
   "source": [
    "print(\"correlation coefficients\")\n",
    "print(scipy.stats.pearsonr(fbkv[\"strong gust\"], fbkv[\"heavy gale\"])[0])\n",
    "print(scipy.stats.pearsonr(fbkv[\"light breeze\"], fbkv[\"heavy gale\"])[0])\n",
    "print()\n",
    "print(\"cosine distances\")\n",
    "print(scipy.spatial.distance.cosine(fbkv[\"strong gust\"], fbkv[\"heavy gale\"]))\n",
    "print(scipy.spatial.distance.cosine(fbkv[\"light breeze\"], fbkv[\"heavy gale\"]))"
   ]
  },
  {
   "cell_type": "markdown",
   "id": "b15ed847-56b2-4f24-a4cc-eeee335078ea",
   "metadata": {},
   "source": [
    "# Make training data by embedding the logbook data\n",
    "(below, we're just using random embeddings)"
   ]
  },
  {
   "cell_type": "code",
   "execution_count": 8,
   "id": "fe29adb9-9ee8-4c3e-885d-e26e49df0382",
   "metadata": {},
   "outputs": [],
   "source": [
    "n_samples = 1000\n",
    "embedding_size = 10 # a.k.a. \"n_features\"\n",
    "\n",
    "## fasttext: log entries -> embeddings\n",
    "X_train = np.random.randn(n_samples, embedding_size)"
   ]
  },
  {
   "cell_type": "markdown",
   "id": "1a80813a-fda4-4da0-9c34-fd99e599355e",
   "metadata": {},
   "source": [
    "# Train clustering model on embedded data"
   ]
  },
  {
   "cell_type": "code",
   "execution_count": 9,
   "id": "b1975666-4b83-41d5-8434-c5a1b23504c8",
   "metadata": {},
   "outputs": [],
   "source": [
    "## initialize (untrained model)\n",
    "kmeans_model = sklearn.cluster.KMeans(n_clusters=9, n_init=\"auto\")\n",
    "\n",
    "## fit the model to training data\n",
    "kmeans_model.fit(X_train)\n",
    "\n",
    "## cluster the training data\n",
    "beaufort_predictions = kmeans_model.predict(X_train)"
   ]
  },
  {
   "cell_type": "code",
   "execution_count": null,
   "id": "98a0c1f3-9112-4cba-bcd8-efef1c350f78",
   "metadata": {},
   "outputs": [],
   "source": []
  }
 ],
 "metadata": {
  "kernelspec": {
   "display_name": "Python 3 (ipykernel)",
   "language": "python",
   "name": "python3"
  },
  "language_info": {
   "codemirror_mode": {
    "name": "ipython",
    "version": 3
   },
   "file_extension": ".py",
   "mimetype": "text/x-python",
   "name": "python",
   "nbconvert_exporter": "python",
   "pygments_lexer": "ipython3",
   "version": "3.12.3"
  }
 },
 "nbformat": 4,
 "nbformat_minor": 5
}
